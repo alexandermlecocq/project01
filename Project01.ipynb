{
 "cells": [
  {
   "cell_type": "code",
   "execution_count": 10,
   "metadata": {
    "scrolled": true
   },
   "outputs": [],
   "source": [
    "# Dependencies and Setup\n",
    "import matplotlib.pyplot as plt\n",
    "import pandas as pd\n",
    "import numpy as np\n",
    "import requests\n",
    "\n",
    "# Import API key\n",
    "#from api_keys import api_key\n",
    "\n",
    "# Import 2017 and 2009 dataframes\n",
    "raw_2017 = pd.DataFrame(pd.read_csv(\"Cleaned_2017_data.csv\"))\n",
    "raw_2009 = pd.DataFrame(pd.read_csv(\"Cleaned_2009_data.csv\"))\n",
    "merged_df = raw_2017.merge(raw_2009[[\"UNITID\", \"GRAD_DEBT_MDN\", \"MD_EARN_WNE_P10\"]], how=\"left\", on = \"UNITID\")"
   ]
  },
  {
   "cell_type": "code",
   "execution_count": 12,
   "metadata": {},
   "outputs": [
    {
     "data": {
      "text/html": [
       "<div>\n",
       "<style scoped>\n",
       "    .dataframe tbody tr th:only-of-type {\n",
       "        vertical-align: middle;\n",
       "    }\n",
       "\n",
       "    .dataframe tbody tr th {\n",
       "        vertical-align: top;\n",
       "    }\n",
       "\n",
       "    .dataframe thead th {\n",
       "        text-align: right;\n",
       "    }\n",
       "</style>\n",
       "<table border=\"1\" class=\"dataframe\">\n",
       "  <thead>\n",
       "    <tr style=\"text-align: right;\">\n",
       "      <th></th>\n",
       "      <th>UNITID</th>\n",
       "      <th>INSTNM</th>\n",
       "      <th>CITY</th>\n",
       "      <th>STABBR</th>\n",
       "      <th>ZIP</th>\n",
       "      <th>MAIN</th>\n",
       "      <th>PREDDEG</th>\n",
       "      <th>HIGHDEG</th>\n",
       "      <th>CONTROL</th>\n",
       "      <th>REGION</th>\n",
       "      <th>...</th>\n",
       "      <th>COSTT4_A</th>\n",
       "      <th>COSTT4_P</th>\n",
       "      <th>RET_FT4</th>\n",
       "      <th>COMPL_RPY_1YR_RT</th>\n",
       "      <th>COMPL_RPY_3YR_RT</th>\n",
       "      <th>COMPL_RPY_5YR_RT</th>\n",
       "      <th>COMPL_RPY_7YR_RT</th>\n",
       "      <th>GRAD_DEBT_MDN_x</th>\n",
       "      <th>GRAD_DEBT_MDN_y</th>\n",
       "      <th>MD_EARN_WNE_P10</th>\n",
       "    </tr>\n",
       "  </thead>\n",
       "  <tbody>\n",
       "  </tbody>\n",
       "</table>\n",
       "<p>0 rows × 28 columns</p>\n",
       "</div>"
      ],
      "text/plain": [
       "Empty DataFrame\n",
       "Columns: [UNITID, INSTNM, CITY, STABBR, ZIP, MAIN, PREDDEG, HIGHDEG, CONTROL, REGION, LOCALE, LOCALE2, LATITUDE, LONGITUDE, CCUGPROF, ADM_RATE, NPT4_PUB, NPT4_PRIV, COSTT4_A, COSTT4_P, RET_FT4, COMPL_RPY_1YR_RT, COMPL_RPY_3YR_RT, COMPL_RPY_5YR_RT, COMPL_RPY_7YR_RT, GRAD_DEBT_MDN_x, GRAD_DEBT_MDN_y, MD_EARN_WNE_P10]\n",
       "Index: []\n",
       "\n",
       "[0 rows x 28 columns]"
      ]
     },
     "execution_count": 12,
     "metadata": {},
     "output_type": "execute_result"
    }
   ],
   "source": [
    "merged_df.dropna()"
   ]
  },
  {
   "cell_type": "code",
   "execution_count": null,
   "metadata": {},
   "outputs": [],
   "source": []
  }
 ],
 "metadata": {
  "kernelspec": {
   "display_name": "Python 3",
   "language": "python",
   "name": "python3"
  },
  "language_info": {
   "codemirror_mode": {
    "name": "ipython",
    "version": 3
   },
   "file_extension": ".py",
   "mimetype": "text/x-python",
   "name": "python",
   "nbconvert_exporter": "python",
   "pygments_lexer": "ipython3",
   "version": "3.6.7"
  }
 },
 "nbformat": 4,
 "nbformat_minor": 2
}
